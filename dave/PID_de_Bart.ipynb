{
 "cells": [
  {
   "cell_type": "markdown",
   "id": "da59f17e",
   "metadata": {},
   "source": [
    "# Input signals"
   ]
  },
  {
   "cell_type": "code",
   "execution_count": null,
   "id": "58579260",
   "metadata": {},
   "outputs": [],
   "source": [
    "settings = 'ManFF'\n",
    "\n",
    "if settings == 'Man':\n",
    "    # OLP + no FF\n",
    "    ManPath = (: True, 1000: False, 1500: True, TSim: True} # Path for Man\n",
    "    MVManPath = {0: MV0 , Tsim : MV0} #path for MVMan\n",
    "    SPPath = [0: PV0, TSim: MV0] # Path for SP, always the same in most cases\n",
    "    DVPath = (0: 50.0, 800: 60, TSim: 60.0) # Path for DV\n",
    "    ActivateFF = False\n",
    "    ManFF = True\n",
    "    Title_loop = \"Open-loop\"\n",
    "    Title_FF = \"no feedforward\"\n",
    "             \n",
    "elif settings == 'ManFF':\n",
    "    # OLP + FF\n",
    "    ManPath = {0: True, 1000: False, 1500: True, TSim: True} # Path for Man\n",
    "    MVManPath = {0: MV0, TSim: MV0} # Path for MVMan\n",
    "    SPPath = {0: PV0, TSim: PV0} # Path for SP, always the same in most cases\n",
    "    DVPath = {0: 50.0, 800: 60,  TSim: 60.0} # Path for DV\n",
    "    ActivateFF = True\n",
    "    ManFF = True\n",
    "    Title_loop = \"Open-loop\"\n",
    "    Title_FF =  \"feedforward\"\n",
    "          \n",
    "elif settings == 'FF':\n",
    "    # FF, CLP\n",
    "    ManPath = {0: True, 1000: False, 1500: True, TSim: True}# Path for Man\n",
    "    MVManPath = {0: MVO, TSim: MV0}                         # Path for MVMan\n",
    "    SPPath = {0: PV0, TSim: MV0}                            # Path for SP, always the same in most cases\n",
    "    DVPath = {0: 50.0, 800: 60, TSim: 60.0}                 # Path for DV\n",
    "    ActivateFF = True\n",
    "    Title_loop = \"closed-loop\"\n",
    "    Title_FF = \"feedforward\"\n",
    "\n",
    "else:\n",
    "    #no FF, CLP\n",
    "\n",
    "    ManPath = {0: True, 1000: False, 1500: True, TSim: True} # Path for Man\n",
    "    MVManPath = {0: MV0, TSim: MV0}                          # Path for MVMan\n",
    "    SPPath = {0: PV0, TSim: MV0}                             # Path for SP, always the same in most cases\n",
    "    DVPath = {0: 50.0, 800: 60, TSim: 60.0}                  # Path for DV\n",
    "    ActivateFF = False\n",
    "    ManFF= False\n",
    "    Title_loop = \"Closed-loop\"\n",
    "    Title_FF =  \"no feedforward\""
   ]
  }
 ],
 "metadata": {
  "kernelspec": {
   "display_name": "Python 3",
   "language": "python",
   "name": "python3"
  },
  "language_info": {
   "codemirror_mode": {
    "name": "ipython",
    "version": 3
   },
   "file_extension": ".py",
   "mimetype": "text/x-python",
   "name": "python",
   "nbconvert_exporter": "python",
   "pygments_lexer": "ipython3",
   "version": "3.8.8"
  }
 },
 "nbformat": 4,
 "nbformat_minor": 5
}
