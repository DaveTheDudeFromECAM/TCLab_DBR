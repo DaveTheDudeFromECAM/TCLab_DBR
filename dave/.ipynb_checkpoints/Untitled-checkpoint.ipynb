{
 "cells": [
  {
   "cell_type": "code",
   "execution_count": 3,
   "id": "4fbbc065",
   "metadata": {},
   "outputs": [],
   "source": [
    "import numpy as np\n",
    "import matplotlib.pyplot as plt\n",
    "from scipy.optimize import minimize\n",
    "from matplotlib import colors as mcolors\n",
    "\n",
    "import package_DBR\n",
    "from package_DBR import myRound, SelectPath_RT, Delay_RT, FO_RT, FOPDT, SOPDT, FOPDT_cost, SOPDT_cost, Process, Bode"
   ]
  },
  {
   "cell_type": "code",
   "execution_count": null,
   "id": "2d3e9f4b",
   "metadata": {},
   "outputs": [],
   "source": []
  },
  {
   "cell_type": "markdown",
   "id": "23bfe877",
   "metadata": {},
   "source": [
    "BROIDA SIMLPE GRAPH METHOD"
   ]
  },
  {
   "cell_type": "code",
   "execution_count": 4,
   "id": "fff35929",
   "metadata": {},
   "outputs": [
    {
     "ename": "NameError",
     "evalue": "name 'T' is not defined",
     "output_type": "error",
     "traceback": [
      "\u001b[1;31m---------------------------------------------------------------------------\u001b[0m",
      "\u001b[1;31mNameError\u001b[0m                                 Traceback (most recent call last)",
      "\u001b[1;32m<ipython-input-4-fad65689ab8c>\u001b[0m in \u001b[0;36m<module>\u001b[1;34m\u001b[0m\n\u001b[0;32m     20\u001b[0m     \u001b[0mSelectPath_RT\u001b[0m\u001b[1;33m(\u001b[0m\u001b[0mMVPath\u001b[0m\u001b[1;33m,\u001b[0m\u001b[0mt\u001b[0m\u001b[1;33m,\u001b[0m\u001b[0mMV\u001b[0m\u001b[1;33m)\u001b[0m\u001b[1;33m\u001b[0m\u001b[1;33m\u001b[0m\u001b[0m\n\u001b[0;32m     21\u001b[0m \u001b[1;33m\u001b[0m\u001b[0m\n\u001b[1;32m---> 22\u001b[1;33m \u001b[0mPV1\u001b[0m \u001b[1;33m=\u001b[0m \u001b[0mFOPDT\u001b[0m\u001b[1;33m(\u001b[0m\u001b[0mMV\u001b[0m\u001b[1;33m,\u001b[0m\u001b[0mKp\u001b[0m\u001b[1;33m,\u001b[0m\u001b[0mT\u001b[0m\u001b[1;33m,\u001b[0m\u001b[0mtheta\u001b[0m\u001b[1;33m,\u001b[0m\u001b[0mTs\u001b[0m\u001b[1;33m)\u001b[0m\u001b[1;33m\u001b[0m\u001b[1;33m\u001b[0m\u001b[0m\n\u001b[0m",
      "\u001b[1;32m~\\Documents\\ECAM\\4MIN\\Q2\\Control Theory\\Control_theory_software\\package_DBR.py\u001b[0m in \u001b[0;36mFOPDT\u001b[1;34m(MV, Kp, T, theta, Ts, MVInit, PVInit, method)\u001b[0m\n\u001b[0;32m    138\u001b[0m         \u001b[0mMVTemp\u001b[0m\u001b[1;33m.\u001b[0m\u001b[0mappend\u001b[0m\u001b[1;33m(\u001b[0m\u001b[0mMV\u001b[0m\u001b[1;33m[\u001b[0m\u001b[0mi\u001b[0m\u001b[1;33m]\u001b[0m\u001b[1;33m)\u001b[0m\u001b[1;33m\u001b[0m\u001b[1;33m\u001b[0m\u001b[0m\n\u001b[0;32m    139\u001b[0m         \u001b[0mDelay_RT\u001b[0m\u001b[1;33m(\u001b[0m\u001b[0mMVTemp\u001b[0m\u001b[1;33m,\u001b[0m\u001b[0mtheta\u001b[0m\u001b[1;33m,\u001b[0m\u001b[0mTs\u001b[0m\u001b[1;33m,\u001b[0m\u001b[0mMVDelay\u001b[0m\u001b[1;33m,\u001b[0m\u001b[0mMVInit\u001b[0m\u001b[1;33m)\u001b[0m\u001b[1;33m\u001b[0m\u001b[1;33m\u001b[0m\u001b[0m\n\u001b[1;32m--> 140\u001b[1;33m         \u001b[0mFO_RT\u001b[0m\u001b[1;33m(\u001b[0m\u001b[0mMVDelay\u001b[0m\u001b[1;33m,\u001b[0m\u001b[0mKp\u001b[0m\u001b[1;33m,\u001b[0m\u001b[0mT\u001b[0m\u001b[1;33m,\u001b[0m\u001b[0mTs\u001b[0m\u001b[1;33m,\u001b[0m\u001b[0mPVSim\u001b[0m\u001b[1;33m,\u001b[0m\u001b[0mPVInit\u001b[0m\u001b[1;33m,\u001b[0m\u001b[0mmethod\u001b[0m\u001b[1;33m)\u001b[0m\u001b[1;33m\u001b[0m\u001b[1;33m\u001b[0m\u001b[0m\n\u001b[0m\u001b[0;32m    141\u001b[0m \u001b[1;33m\u001b[0m\u001b[0m\n\u001b[0;32m    142\u001b[0m     \u001b[1;32mreturn\u001b[0m \u001b[0mPVSim\u001b[0m\u001b[1;33m\u001b[0m\u001b[1;33m\u001b[0m\u001b[0m\n",
      "\u001b[1;32m~\\Documents\\ECAM\\4MIN\\Q2\\Control Theory\\Control_theory_software\\package_DBR.py\u001b[0m in \u001b[0;36mFO_RT\u001b[1;34m(MV, Kp, Tlead, Tlag, Ts, PV, PVInit, method)\u001b[0m\n\u001b[0;32m     87\u001b[0m     \"\"\"    \n\u001b[0;32m     88\u001b[0m \u001b[1;33m\u001b[0m\u001b[0m\n\u001b[1;32m---> 89\u001b[1;33m     \u001b[1;32mif\u001b[0m \u001b[1;33m(\u001b[0m\u001b[0mT\u001b[0m \u001b[1;33m!=\u001b[0m \u001b[1;36m0\u001b[0m\u001b[1;33m)\u001b[0m\u001b[1;33m:\u001b[0m\u001b[1;33m\u001b[0m\u001b[1;33m\u001b[0m\u001b[0m\n\u001b[0m\u001b[0;32m     90\u001b[0m         \u001b[0mK\u001b[0m \u001b[1;33m=\u001b[0m \u001b[0mTs\u001b[0m\u001b[1;33m/\u001b[0m\u001b[0mT\u001b[0m\u001b[1;33m\u001b[0m\u001b[1;33m\u001b[0m\u001b[0m\n\u001b[0;32m     91\u001b[0m         \u001b[1;32mif\u001b[0m \u001b[0mlen\u001b[0m\u001b[1;33m(\u001b[0m\u001b[0mPV\u001b[0m\u001b[1;33m)\u001b[0m \u001b[1;33m==\u001b[0m \u001b[1;36m0\u001b[0m\u001b[1;33m:\u001b[0m\u001b[1;33m\u001b[0m\u001b[1;33m\u001b[0m\u001b[0m\n",
      "\u001b[1;31mNameError\u001b[0m: name 'T' is not defined"
     ]
    }
   ],
   "source": [
    "TSim = 700\n",
    "Ts = 0.1\n",
    "N = int(TSim/Ts) + 1\n",
    "\n",
    "# Path for MV\n",
    "#MVPath = {0: 1, 500 :0}\n",
    "MVPath = {0: 0, 5: 1, 500 :0, TSim: 0}\n",
    "\n",
    "t = []\n",
    "MV = []\n",
    "\n",
    "# Parameters\n",
    "Kp = 0.4\n",
    "T = 143.06\n",
    "theta = 6.33\n",
    "\n",
    "# MV is created from MVPath\n",
    "for i in range(0,N):\n",
    "    t.append(i*Ts)\n",
    "    SelectPath_RT(MVPath,t,MV)\n",
    "    \n",
    "PV1 = FOPDT(MV,Kp,T,theta,Ts)"
   ]
  },
  {
   "cell_type": "markdown",
   "id": "a5fa7dc4",
   "metadata": {},
   "source": [
    "BROIDA COMPLEX METHOD"
   ]
  },
  {
   "cell_type": "code",
   "execution_count": null,
   "id": "0ef9f6b8",
   "metadata": {},
   "outputs": [],
   "source": [
    "TSim = 700\n",
    "Ts = 0.1\n",
    "N = int(TSim/Ts) + 1\n",
    "\n",
    "# Path for MV\n",
    "MVPath = {0: 0, 5: 1, 500 :0, TSim: 0}\n",
    "\n",
    "t = []\n",
    "MV = []\n",
    "\n",
    "# Parameters\n",
    "Kp = 0.4\n",
    "T = 97.46\n",
    "theta = 13.69\n",
    "\n",
    "# MV is created from MVPath\n",
    "for i in range(0,N):\n",
    "    t.append(i*Ts)\n",
    "    SelectPath_RT(MVPath,t,MV)\n",
    "    \n",
    "PV2 = FOPDT(MV,Kp,T,theta,Ts)\n",
    "\n"
   ]
  },
  {
   "cell_type": "markdown",
   "id": "91f92a28",
   "metadata": {},
   "source": [
    "Van der Grinten"
   ]
  },
  {
   "cell_type": "code",
   "execution_count": 5,
   "id": "cefc753f",
   "metadata": {},
   "outputs": [
    {
     "ename": "NameError",
     "evalue": "name 'T' is not defined",
     "output_type": "error",
     "traceback": [
      "\u001b[1;31m---------------------------------------------------------------------------\u001b[0m",
      "\u001b[1;31mNameError\u001b[0m                                 Traceback (most recent call last)",
      "\u001b[1;32m<ipython-input-5-1869392b28f0>\u001b[0m in \u001b[0;36m<module>\u001b[1;34m\u001b[0m\n\u001b[0;32m     21\u001b[0m \u001b[1;33m\u001b[0m\u001b[0m\n\u001b[0;32m     22\u001b[0m \u001b[1;33m\u001b[0m\u001b[0m\n\u001b[1;32m---> 23\u001b[1;33m \u001b[0mPV3\u001b[0m \u001b[1;33m=\u001b[0m \u001b[0mSOPDT\u001b[0m\u001b[1;33m(\u001b[0m\u001b[0mMV\u001b[0m\u001b[1;33m,\u001b[0m\u001b[0mKp\u001b[0m\u001b[1;33m,\u001b[0m\u001b[0mT1\u001b[0m\u001b[1;33m,\u001b[0m\u001b[0mT2\u001b[0m\u001b[1;33m,\u001b[0m\u001b[0mtheta\u001b[0m\u001b[1;33m,\u001b[0m\u001b[0mTs\u001b[0m\u001b[1;33m)\u001b[0m\u001b[1;33m\u001b[0m\u001b[1;33m\u001b[0m\u001b[0m\n\u001b[0m",
      "\u001b[1;32m~\\Documents\\ECAM\\4MIN\\Q2\\Control Theory\\Control_theory_software\\package_DBR.py\u001b[0m in \u001b[0;36mSOPDT\u001b[1;34m(MV, Kp, T1, T2, theta, Ts, MVInit, PVInit, method)\u001b[0m\n\u001b[0;32m    174\u001b[0m         \u001b[0mMVTemp\u001b[0m\u001b[1;33m.\u001b[0m\u001b[0mappend\u001b[0m\u001b[1;33m(\u001b[0m\u001b[0mMV\u001b[0m\u001b[1;33m[\u001b[0m\u001b[0mi\u001b[0m\u001b[1;33m]\u001b[0m\u001b[1;33m)\u001b[0m\u001b[1;33m\u001b[0m\u001b[1;33m\u001b[0m\u001b[0m\n\u001b[0;32m    175\u001b[0m         \u001b[0mDelay_RT\u001b[0m\u001b[1;33m(\u001b[0m\u001b[0mMVTemp\u001b[0m\u001b[1;33m,\u001b[0m\u001b[0mtheta\u001b[0m\u001b[1;33m,\u001b[0m\u001b[0mTs\u001b[0m\u001b[1;33m,\u001b[0m\u001b[0mMVDelay\u001b[0m\u001b[1;33m,\u001b[0m\u001b[0mMVInit\u001b[0m\u001b[1;33m)\u001b[0m\u001b[1;33m\u001b[0m\u001b[1;33m\u001b[0m\u001b[0m\n\u001b[1;32m--> 176\u001b[1;33m         \u001b[0mFO_RT\u001b[0m\u001b[1;33m(\u001b[0m\u001b[0mMVDelay\u001b[0m\u001b[1;33m,\u001b[0m\u001b[0mKp\u001b[0m\u001b[1;33m,\u001b[0m\u001b[0mT1\u001b[0m\u001b[1;33m,\u001b[0m\u001b[0mTs\u001b[0m\u001b[1;33m,\u001b[0m\u001b[0mPV1\u001b[0m\u001b[1;33m,\u001b[0m\u001b[0mPVInit\u001b[0m\u001b[1;33m,\u001b[0m\u001b[0mmethod\u001b[0m\u001b[1;33m)\u001b[0m\u001b[1;33m\u001b[0m\u001b[1;33m\u001b[0m\u001b[0m\n\u001b[0m\u001b[0;32m    177\u001b[0m         \u001b[0mFO_RT\u001b[0m\u001b[1;33m(\u001b[0m\u001b[0mPV1\u001b[0m\u001b[1;33m,\u001b[0m\u001b[1;36m1\u001b[0m\u001b[1;33m,\u001b[0m\u001b[0mT2\u001b[0m\u001b[1;33m,\u001b[0m\u001b[0mTs\u001b[0m\u001b[1;33m,\u001b[0m\u001b[0mPVSim\u001b[0m\u001b[1;33m,\u001b[0m\u001b[0mPVInit\u001b[0m\u001b[1;33m,\u001b[0m\u001b[0mmethod\u001b[0m\u001b[1;33m)\u001b[0m\u001b[1;33m\u001b[0m\u001b[1;33m\u001b[0m\u001b[0m\n\u001b[0;32m    178\u001b[0m \u001b[1;33m\u001b[0m\u001b[0m\n",
      "\u001b[1;32m~\\Documents\\ECAM\\4MIN\\Q2\\Control Theory\\Control_theory_software\\package_DBR.py\u001b[0m in \u001b[0;36mFO_RT\u001b[1;34m(MV, Kp, Tlead, Tlag, Ts, PV, PVInit, method)\u001b[0m\n\u001b[0;32m     87\u001b[0m     \"\"\"    \n\u001b[0;32m     88\u001b[0m \u001b[1;33m\u001b[0m\u001b[0m\n\u001b[1;32m---> 89\u001b[1;33m     \u001b[1;32mif\u001b[0m \u001b[1;33m(\u001b[0m\u001b[0mT\u001b[0m \u001b[1;33m!=\u001b[0m \u001b[1;36m0\u001b[0m\u001b[1;33m)\u001b[0m\u001b[1;33m:\u001b[0m\u001b[1;33m\u001b[0m\u001b[1;33m\u001b[0m\u001b[0m\n\u001b[0m\u001b[0;32m     90\u001b[0m         \u001b[0mK\u001b[0m \u001b[1;33m=\u001b[0m \u001b[0mTs\u001b[0m\u001b[1;33m/\u001b[0m\u001b[0mT\u001b[0m\u001b[1;33m\u001b[0m\u001b[1;33m\u001b[0m\u001b[0m\n\u001b[0;32m     91\u001b[0m         \u001b[1;32mif\u001b[0m \u001b[0mlen\u001b[0m\u001b[1;33m(\u001b[0m\u001b[0mPV\u001b[0m\u001b[1;33m)\u001b[0m \u001b[1;33m==\u001b[0m \u001b[1;36m0\u001b[0m\u001b[1;33m:\u001b[0m\u001b[1;33m\u001b[0m\u001b[1;33m\u001b[0m\u001b[0m\n",
      "\u001b[1;31mNameError\u001b[0m: name 'T' is not defined"
     ]
    }
   ],
   "source": [
    "TSim = 700\n",
    "Ts = 0.1\n",
    "N = int(TSim/Ts) + 1\n",
    "\n",
    "# Path for MV\n",
    "MVPath = {0: 0, 5: 1, 500 :0, TSim: 0}\n",
    "\n",
    "t = []\n",
    "MV = []\n",
    "\n",
    "# Parameters\n",
    "Kp = 0.4\n",
    "theta = 13.89\n",
    "T1 = -20.755\n",
    "T2 = 81.91\n",
    "\n",
    "# MV is created from MVPath\n",
    "for i in range(0,N):\n",
    "    t.append(i*Ts)\n",
    "    SelectPath_RT(MVPath,t,MV)\n",
    "    \n",
    "\n",
    "PV3 = SOPDT(MV,Kp,T1,T2,theta,Ts)\n"
   ]
  },
  {
   "cell_type": "markdown",
   "id": "1412a564",
   "metadata": {},
   "source": [
    "SREJC"
   ]
  },
  {
   "cell_type": "code",
   "execution_count": 6,
   "id": "0bc765c4",
   "metadata": {},
   "outputs": [
    {
     "ename": "NameError",
     "evalue": "name 'T' is not defined",
     "output_type": "error",
     "traceback": [
      "\u001b[1;31m---------------------------------------------------------------------------\u001b[0m",
      "\u001b[1;31mNameError\u001b[0m                                 Traceback (most recent call last)",
      "\u001b[1;32m<ipython-input-6-d1ab9e5bfa4d>\u001b[0m in \u001b[0;36m<module>\u001b[1;34m\u001b[0m\n\u001b[0;32m     19\u001b[0m     \u001b[0mSelectPath_RT\u001b[0m\u001b[1;33m(\u001b[0m\u001b[0mMVPath\u001b[0m\u001b[1;33m,\u001b[0m\u001b[0mt\u001b[0m\u001b[1;33m,\u001b[0m\u001b[0mMV\u001b[0m\u001b[1;33m)\u001b[0m\u001b[1;33m\u001b[0m\u001b[1;33m\u001b[0m\u001b[0m\n\u001b[0;32m     20\u001b[0m \u001b[1;33m\u001b[0m\u001b[0m\n\u001b[1;32m---> 21\u001b[1;33m \u001b[0mPV4\u001b[0m \u001b[1;33m=\u001b[0m \u001b[0mFOPDT\u001b[0m\u001b[1;33m(\u001b[0m\u001b[0mMV\u001b[0m\u001b[1;33m,\u001b[0m\u001b[0mKp\u001b[0m\u001b[1;33m,\u001b[0m\u001b[0mT\u001b[0m\u001b[1;33m,\u001b[0m\u001b[0mtheta\u001b[0m\u001b[1;33m,\u001b[0m\u001b[0mTs\u001b[0m\u001b[1;33m)\u001b[0m\u001b[1;33m\u001b[0m\u001b[1;33m\u001b[0m\u001b[0m\n\u001b[0m\u001b[0;32m     22\u001b[0m \u001b[1;33m\u001b[0m\u001b[0m\n",
      "\u001b[1;32m~\\Documents\\ECAM\\4MIN\\Q2\\Control Theory\\Control_theory_software\\package_DBR.py\u001b[0m in \u001b[0;36mFOPDT\u001b[1;34m(MV, Kp, T, theta, Ts, MVInit, PVInit, method)\u001b[0m\n\u001b[0;32m    138\u001b[0m         \u001b[0mMVTemp\u001b[0m\u001b[1;33m.\u001b[0m\u001b[0mappend\u001b[0m\u001b[1;33m(\u001b[0m\u001b[0mMV\u001b[0m\u001b[1;33m[\u001b[0m\u001b[0mi\u001b[0m\u001b[1;33m]\u001b[0m\u001b[1;33m)\u001b[0m\u001b[1;33m\u001b[0m\u001b[1;33m\u001b[0m\u001b[0m\n\u001b[0;32m    139\u001b[0m         \u001b[0mDelay_RT\u001b[0m\u001b[1;33m(\u001b[0m\u001b[0mMVTemp\u001b[0m\u001b[1;33m,\u001b[0m\u001b[0mtheta\u001b[0m\u001b[1;33m,\u001b[0m\u001b[0mTs\u001b[0m\u001b[1;33m,\u001b[0m\u001b[0mMVDelay\u001b[0m\u001b[1;33m,\u001b[0m\u001b[0mMVInit\u001b[0m\u001b[1;33m)\u001b[0m\u001b[1;33m\u001b[0m\u001b[1;33m\u001b[0m\u001b[0m\n\u001b[1;32m--> 140\u001b[1;33m         \u001b[0mFO_RT\u001b[0m\u001b[1;33m(\u001b[0m\u001b[0mMVDelay\u001b[0m\u001b[1;33m,\u001b[0m\u001b[0mKp\u001b[0m\u001b[1;33m,\u001b[0m\u001b[0mT\u001b[0m\u001b[1;33m,\u001b[0m\u001b[0mTs\u001b[0m\u001b[1;33m,\u001b[0m\u001b[0mPVSim\u001b[0m\u001b[1;33m,\u001b[0m\u001b[0mPVInit\u001b[0m\u001b[1;33m,\u001b[0m\u001b[0mmethod\u001b[0m\u001b[1;33m)\u001b[0m\u001b[1;33m\u001b[0m\u001b[1;33m\u001b[0m\u001b[0m\n\u001b[0m\u001b[0;32m    141\u001b[0m \u001b[1;33m\u001b[0m\u001b[0m\n\u001b[0;32m    142\u001b[0m     \u001b[1;32mreturn\u001b[0m \u001b[0mPVSim\u001b[0m\u001b[1;33m\u001b[0m\u001b[1;33m\u001b[0m\u001b[0m\n",
      "\u001b[1;32m~\\Documents\\ECAM\\4MIN\\Q2\\Control Theory\\Control_theory_software\\package_DBR.py\u001b[0m in \u001b[0;36mFO_RT\u001b[1;34m(MV, Kp, Tlead, Tlag, Ts, PV, PVInit, method)\u001b[0m\n\u001b[0;32m     87\u001b[0m     \"\"\"    \n\u001b[0;32m     88\u001b[0m \u001b[1;33m\u001b[0m\u001b[0m\n\u001b[1;32m---> 89\u001b[1;33m     \u001b[1;32mif\u001b[0m \u001b[1;33m(\u001b[0m\u001b[0mT\u001b[0m \u001b[1;33m!=\u001b[0m \u001b[1;36m0\u001b[0m\u001b[1;33m)\u001b[0m\u001b[1;33m:\u001b[0m\u001b[1;33m\u001b[0m\u001b[1;33m\u001b[0m\u001b[0m\n\u001b[0m\u001b[0;32m     90\u001b[0m         \u001b[0mK\u001b[0m \u001b[1;33m=\u001b[0m \u001b[0mTs\u001b[0m\u001b[1;33m/\u001b[0m\u001b[0mT\u001b[0m\u001b[1;33m\u001b[0m\u001b[1;33m\u001b[0m\u001b[0m\n\u001b[0;32m     91\u001b[0m         \u001b[1;32mif\u001b[0m \u001b[0mlen\u001b[0m\u001b[1;33m(\u001b[0m\u001b[0mPV\u001b[0m\u001b[1;33m)\u001b[0m \u001b[1;33m==\u001b[0m \u001b[1;36m0\u001b[0m\u001b[1;33m:\u001b[0m\u001b[1;33m\u001b[0m\u001b[1;33m\u001b[0m\u001b[0m\n",
      "\u001b[1;31mNameError\u001b[0m: name 'T' is not defined"
     ]
    }
   ],
   "source": [
    "TSim = 700\n",
    "Ts = 0.1\n",
    "N = int(TSim/Ts) + 1\n",
    "\n",
    "# Path for MV\n",
    "MVPath = {0: 0, 5: 1, 500 :0, TSim: 0}\n",
    "\n",
    "t = []\n",
    "MV = []\n",
    "\n",
    "# Parameters\n",
    "Kp = 0.4\n",
    "T = 143.06\n",
    "theta = 0.036\n",
    "\n",
    "# MV is created from MVPath\n",
    "for i in range(0,N):\n",
    "    t.append(i*Ts)\n",
    "    SelectPath_RT(MVPath,t,MV)\n",
    "    \n",
    "PV4 = FOPDT(MV,Kp,T,theta,Ts)\n",
    "\n"
   ]
  },
  {
   "cell_type": "markdown",
   "id": "690f83a7",
   "metadata": {},
   "source": [
    "FOPDT identification (AUTO PY CODE)"
   ]
  },
  {
   "cell_type": "code",
   "execution_count": 29,
   "id": "4ecca222",
   "metadata": {},
   "outputs": [],
   "source": [
    "TSim = 700\n",
    "Ts = 0.1\n",
    "N = int(TSim/Ts) + 1\n",
    "\n",
    "# Path for MV\n",
    "MVPath = {0: 0, 5: 1, 500 :0, TSim: 0}\n",
    "\n",
    "t = []\n",
    "MV = []\n",
    "\n",
    "# Parameters\n",
    "Kp = 0.4817404740295075\n",
    "T = 147.38681093535638\n",
    "theta = 2.442958610918453\n",
    "\n",
    "# MV is created from MVPath\n",
    "for i in range(0,N):\n",
    "    t.append(i*Ts)\n",
    "    SelectPath_RT(MVPath,t,MV)\n",
    "    \n",
    "PV5 = FOPDT(MV,Kp,T,theta,Ts)\n",
    "\n"
   ]
  },
  {
   "cell_type": "markdown",
   "id": "94f4fd5e",
   "metadata": {},
   "source": [
    "PLOT"
   ]
  },
  {
   "cell_type": "code",
   "execution_count": 2,
   "id": "e8a36290",
   "metadata": {},
   "outputs": [
    {
     "ename": "NameError",
     "evalue": "name 'plt' is not defined",
     "output_type": "error",
     "traceback": [
      "\u001b[1;31m---------------------------------------------------------------------------\u001b[0m",
      "\u001b[1;31mNameError\u001b[0m                                 Traceback (most recent call last)",
      "\u001b[1;32m<ipython-input-2-c6af79e4d4f0>\u001b[0m in \u001b[0;36m<module>\u001b[1;34m\u001b[0m\n\u001b[1;32m----> 1\u001b[1;33m \u001b[0mplt\u001b[0m\u001b[1;33m.\u001b[0m\u001b[0mfigure\u001b[0m\u001b[1;33m(\u001b[0m\u001b[0mfigsize\u001b[0m \u001b[1;33m=\u001b[0m \u001b[1;33m(\u001b[0m\u001b[1;36m15\u001b[0m\u001b[1;33m,\u001b[0m\u001b[1;36m9\u001b[0m\u001b[1;33m)\u001b[0m\u001b[1;33m)\u001b[0m\u001b[1;33m\u001b[0m\u001b[1;33m\u001b[0m\u001b[0m\n\u001b[0m\u001b[0;32m      2\u001b[0m \u001b[1;33m\u001b[0m\u001b[0m\n\u001b[0;32m      3\u001b[0m \u001b[0mplt\u001b[0m\u001b[1;33m.\u001b[0m\u001b[0msubplot\u001b[0m\u001b[1;33m(\u001b[0m\u001b[1;36m2\u001b[0m\u001b[1;33m,\u001b[0m\u001b[1;36m1\u001b[0m\u001b[1;33m,\u001b[0m\u001b[1;36m1\u001b[0m\u001b[1;33m)\u001b[0m\u001b[1;33m\u001b[0m\u001b[1;33m\u001b[0m\u001b[0m\n\u001b[0;32m      4\u001b[0m \u001b[0mplt\u001b[0m\u001b[1;33m.\u001b[0m\u001b[0mstep\u001b[0m\u001b[1;33m(\u001b[0m\u001b[0mt\u001b[0m\u001b[1;33m,\u001b[0m\u001b[0mMV\u001b[0m\u001b[1;33m,\u001b[0m\u001b[1;34m'b-'\u001b[0m\u001b[1;33m,\u001b[0m\u001b[0mlabel\u001b[0m\u001b[1;33m=\u001b[0m\u001b[1;34m'MV'\u001b[0m\u001b[1;33m,\u001b[0m\u001b[0mwhere\u001b[0m\u001b[1;33m=\u001b[0m\u001b[1;34m'post'\u001b[0m\u001b[1;33m)\u001b[0m\u001b[1;33m\u001b[0m\u001b[1;33m\u001b[0m\u001b[0m\n\u001b[0;32m      5\u001b[0m \u001b[0mplt\u001b[0m\u001b[1;33m.\u001b[0m\u001b[0mylabel\u001b[0m\u001b[1;33m(\u001b[0m\u001b[1;34m'Value of MV'\u001b[0m\u001b[1;33m)\u001b[0m\u001b[1;33m\u001b[0m\u001b[1;33m\u001b[0m\u001b[0m\n",
      "\u001b[1;31mNameError\u001b[0m: name 'plt' is not defined"
     ]
    }
   ],
   "source": [
    "plt.figure(figsize = (15,9))\n",
    "\n",
    "plt.subplot(2,1,1)\n",
    "plt.step(t,MV,'b-',label='MV',where='post')\n",
    "plt.ylabel('Value of MV')\n",
    "plt.title('First order plus delay response')\n",
    "plt.legend(loc='best')\n",
    "plt.xlim([0, TSim])\n",
    "\n",
    "plt.subplot(2,1,2)\n",
    "\n",
    "plt.step(t,PV1,'g-',label='simple broida',where='post')\n",
    "plt.step(t,PV2,'r-',label='complex broida',where='post')\n",
    "#plt.step(t,PV3,'b-',label='vdg',where='post')\n",
    "plt.step(t,PV4,'b-',label='STREJC',where='post')\n",
    "plt.step(t,PV5,'y-',label='FOPDT identification',where='post')\n",
    "\n",
    "plt.ylabel('Value of PV')\n",
    "plt.xlabel('Time [s]')\n",
    "plt.legend(loc='best')\n",
    "plt.xlim([0, TSim])  "
   ]
  },
  {
   "cell_type": "code",
   "execution_count": null,
   "id": "aec9a073",
   "metadata": {},
   "outputs": [],
   "source": []
  }
 ],
 "metadata": {
  "kernelspec": {
   "display_name": "Python 3",
   "language": "python",
   "name": "python3"
  },
  "language_info": {
   "codemirror_mode": {
    "name": "ipython",
    "version": 3
   },
   "file_extension": ".py",
   "mimetype": "text/x-python",
   "name": "python",
   "nbconvert_exporter": "python",
   "pygments_lexer": "ipython3",
   "version": "3.8.8"
  }
 },
 "nbformat": 4,
 "nbformat_minor": 5
}
