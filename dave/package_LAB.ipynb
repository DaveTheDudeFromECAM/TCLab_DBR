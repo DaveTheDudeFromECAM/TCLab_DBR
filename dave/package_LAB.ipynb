{
 "cells": [
  {
   "cell_type": "code",
   "execution_count": 12,
   "id": "c5e25431",
   "metadata": {},
   "outputs": [],
   "source": [
    "# Verified version"
   ]
  },
  {
   "attachments": {},
   "cell_type": "markdown",
   "id": "91b9c20a",
   "metadata": {},
   "source": [
    "# Package Lab JuypterLab Notebook"
   ]
  },
  {
   "attachments": {},
   "cell_type": "markdown",
   "id": "a1dd5b71",
   "metadata": {},
   "source": [
    "This notebook is ued to show typical usage of the functions made for the TCLab board & PID regulation course."
   ]
  },
  {
   "attachments": {},
   "cell_type": "markdown",
   "id": "7dc72388",
   "metadata": {},
   "source": [
    "## Import"
   ]
  },
  {
   "cell_type": "code",
   "execution_count": 13,
   "id": "92e37ae2",
   "metadata": {},
   "outputs": [],
   "source": [
    "import numpy as np\n",
    "import matplotlib.pyplot as plt\n",
    "from scipy.optimize import minimize\n",
    "from matplotlib import colors as mcolors\n",
    "from ipywidgets import interact,FloatSlider # use of slider and interactive plot update\n",
    "\n",
    "import package_LAB\n",
    "from importlib import reload\n",
    "package_LAB = reload(package_LAB)\n",
    "\n",
    "from package_DBR import *\n",
    "from package_LAB import *"
   ]
  },
  {
   "attachments": {},
   "cell_type": "markdown",
   "id": "b7de89ad",
   "metadata": {},
   "source": [
    "## Use of sliders\n",
    "pip install ipywidgets"
   ]
  },
  {
   "cell_type": "code",
   "execution_count": 14,
   "id": "3c0bf26d",
   "metadata": {},
   "outputs": [
    {
     "data": {
      "application/vnd.jupyter.widget-view+json": {
       "model_id": "ba28e174dbaa4e639fa9145ea2a80b96",
       "version_major": 2,
       "version_minor": 0
      },
      "text/plain": [
       "interactive(children=(FloatSlider(value=1.0, description='value_x', max=3.0, min=0.1), FloatSlider(value=1.0, …"
      ]
     },
     "metadata": {},
     "output_type": "display_data"
    },
    {
     "data": {
      "text/plain": [
       "<function __main__.myFunc(value_x, value_y)>"
      ]
     },
     "execution_count": 14,
     "metadata": {},
     "output_type": "execute_result"
    }
   ],
   "source": [
    "def myFunc(value_x, value_y):\n",
    "    print(\"x: \", value_x, \"y: \", value_y)\n",
    "\n",
    "interact(myFunc,\n",
    "         value_x=FloatSlider(min=0.1, max=3, step=0.1,value=1),\n",
    "         value_y=FloatSlider(min=0.1, max=3, step=0.1,value=1))"
   ]
  },
  {
   "attachments": {},
   "cell_type": "markdown",
   "id": "2c56b791",
   "metadata": {},
   "source": [
    "## Lead Lag"
   ]
  },
  {
   "cell_type": "code",
   "execution_count": 15,
   "id": "ab21d09b",
   "metadata": {},
   "outputs": [
    {
     "name": "stdout",
     "output_type": "stream",
     "text": [
      "Help on function Lead_Lag_RT in module package_LAB:\n",
      "\n",
      "Lead_Lag_RT(MV, Kp, Tlead, Tlag, Ts, PV, PVInit=0, method='EBD')\n",
      "    The function \"Lead-lag_RT\" needs to be included in a \"for or while loop\".\n",
      "    \n",
      "    :MV: input vector\n",
      "    :Kp: process gain\n",
      "    \n",
      "    :Tlead: lead time constant [s]\n",
      "    :Tlag: lag time constant [s]\n",
      "    \n",
      "    :Ts: sampling period [s]\n",
      "    :PV: output vector\n",
      "    :PVInit: (optional: default value is 0)\n",
      "    :method: discretisation method (optional: default value is 'EBD')\n",
      "        EBD: Euler Backward difference\n",
      "        EFD: Euler Forward difference\n",
      "        TRAP: Trapezoïdal method\n",
      "    \n",
      "    The function \"Lead-lag_RT\" appends a value to the output vector \"PV\".\n",
      "    The appended value is obtained from a recurrent equation that depends on the discretisation method.\n",
      "\n"
     ]
    }
   ],
   "source": [
    "help(Lead_Lag_RT)"
   ]
  },
  {
   "cell_type": "code",
   "execution_count": 16,
   "id": "3ff10016",
   "metadata": {},
   "outputs": [
    {
     "data": {
      "application/vnd.jupyter.widget-view+json": {
       "model_id": "19fb5c86b26445b496adce9b1fb70989",
       "version_major": 2,
       "version_minor": 0
      },
      "text/plain": [
       "interactive(children=(FloatSlider(value=1.0, description='Kp', max=3.0, min=0.1), FloatSlider(value=5.0, descr…"
      ]
     },
     "metadata": {},
     "output_type": "display_data"
    },
    {
     "data": {
      "text/plain": [
       "<function __main__.update_plot(Kp, Tlead, Tlag, theta)>"
      ]
     },
     "execution_count": 16,
     "metadata": {},
     "output_type": "execute_result"
    }
   ],
   "source": [
    "Ts = 0.1\n",
    "TSim = 100\n",
    "N = int(TSim/Ts) + 1\n",
    "\n",
    "# Path for MV\n",
    "MVPath = {0: 0, 5: 1,50:2, 80:3,  TSim: 3}\n",
    "\n",
    "def update_plot(Kp, Tlead, Tlag, theta): # clear old values\n",
    "    t = []\n",
    "    MV = []\n",
    "    MVDelay = []\n",
    "    PV_EBD = []\n",
    "    PV_EFD = []\n",
    "    PV_TRAP = []\n",
    "\n",
    "    for i in range(0,N):\n",
    "        t.append(i*Ts)\n",
    "        SelectPath_RT(MVPath,t,MV)\n",
    "        Delay_RT(MV,theta,Ts,MVDelay)\n",
    "\n",
    "        Lead_Lag_RT(MVDelay, Kp, Tlead, Tlag, Ts, PV_EBD, PVInit=0, method='EBD')\n",
    "\n",
    "    plt.figure(figsize = (15,9))\n",
    "\n",
    "    # First subplot for MV and PV with delay\n",
    "    plt.subplot(2,1,1)\n",
    "    plt.step(t,MV,'b-',label='MV',where='post')\n",
    "    plt.step(t,MVDelay,'b-',linewidth=0.5,label='MV plus delay',where='post')\n",
    "    plt.ylabel('Value')\n",
    "    plt.title('First order plus delay response')\n",
    "    plt.legend(loc='best')\n",
    "    plt.xlim([0, TSim])\n",
    "\n",
    "    # Second subplot for PV with first-order response and delay\n",
    "    plt.subplot(2,1,2)\n",
    "    plt.step(t,PV_EBD,'g-',label='First order response plus delay (EBD)',where='post')\n",
    "    plt.ylabel('Value')\n",
    "    plt.xlabel('Time [s]')\n",
    "    plt.legend(loc='best')\n",
    "    plt.xlim([0, TSim])\n",
    "    plt.show()\n",
    "\n",
    "# Display interactive plot\n",
    "interact(update_plot, \n",
    "         Kp=FloatSlider(min=0.1, max=3, step=0.1, value=1),\n",
    "         Tlead=FloatSlider(min=-20, max=20, step=0.1, value=5),\n",
    "         Tlag=FloatSlider(min=-20, max=40, step=0.1, value=3),\n",
    "         theta=FloatSlider(min=0, max=20, step=0.1, value=1))"
   ]
  },
  {
   "attachments": {},
   "cell_type": "markdown",
   "id": "ac099da4",
   "metadata": {},
   "source": [
    "## TCLAB dynamics"
   ]
  },
  {
   "cell_type": "code",
   "execution_count": 17,
   "id": "6b1ae2a1",
   "metadata": {},
   "outputs": [],
   "source": [
    "#SOPDT PV in-out dynamics params\n",
    "Kp = 0.6738137025155853\n",
    "T1p = 183.44770757727215\n",
    "T2p = 5.327855225788805e-05\n",
    "thetap = 10.192078303908199\n",
    "\n",
    "#SOPDT DV disturbance dynamics params\n",
    "Kd = 0.45188195989398117\n",
    "T1d = 93.79714286404828\n",
    "T2d = 47.79759461272312\n",
    "thetad = 2.0000001555147313"
   ]
  },
  {
   "attachments": {},
   "cell_type": "markdown",
   "id": "497a8b88",
   "metadata": {},
   "source": [
    "## IMC"
   ]
  },
  {
   "cell_type": "code",
   "execution_count": 18,
   "id": "c8c339d8",
   "metadata": {},
   "outputs": [
    {
     "name": "stdout",
     "output_type": "stream",
     "text": [
      "Help on function IMC_tuning in module package_LAB:\n",
      "\n",
      "IMC_tuning(Kp, Tlag1=0, Tlag2=0, theta=0, gamma=0, process='FOPDT')\n",
      "    The function \"imc_tuning\" is only for first and second order systems.\n",
      "    :Kp: process gain\n",
      "    :Tlag1: first (or main) lag time constant [s] used in your process\n",
      "    :Tlag2: second lag time constant [s] used in your process\n",
      "    :theta: delay [s] used in your process\n",
      "    :gamma : constant used to get the closed loop time constant\n",
      "    :process: process order (ex : FOPDT first order system wuth delay)\n",
      "    :model: broida_simple or broida_complex for FOPDT\n",
      "    :Tg:\n",
      "    :Tu:\n",
      "    :a:\n",
      "    :t1: time for 28% of PV (100% being the steady state)\n",
      "    :t2: time for 44% of PV\n",
      "    :return: imc tuning parameters respectively:\n",
      "    - Kc: controller gain\n",
      "    - Ti: reset time\n",
      "    - Td: derivative time\n",
      "    The function \"imc_tuning\" returns the parameteres that you will use in your PID depending on your process parameters\n",
      "\n",
      "9.540399447152746 183.4477608558244 5.327853678425066e-05\n"
     ]
    }
   ],
   "source": [
    "help(IMC_tuning)\n",
    "gamma = 0.1\n",
    "Kc, Ti, Td = IMC_tuning(Kp, T1p, T2p, thetap, gamma, \"SOPDT\")\n",
    "print(Kc, Ti, Td)"
   ]
  },
  {
   "attachments": {},
   "cell_type": "markdown",
   "id": "6ce197c5",
   "metadata": {},
   "source": [
    "## PID"
   ]
  },
  {
   "cell_type": "code",
   "execution_count": 19,
   "id": "c51141f6",
   "metadata": {},
   "outputs": [
    {
     "name": "stdout",
     "output_type": "stream",
     "text": [
      "Help on function PID_RT in module package_LAB:\n",
      "\n",
      "PID_RT(SP, PV, Man, MVMan, MVFF, Kc, Ti, Td, alpha, Ts, MVMin, MVMax, MV, MVP, MVI, MVD, E, ManFF=False, PVInit=0, method='EBD-EBD')\n",
      "    Help on function PID_RT in module package_LAB:\n",
      "    \n",
      "    PID_RT (SP, PV, Man, MVMan, MVFF, Kc, Ti, Td, alpha, Ts, MVMin, MVMax, MV, MVP, MVI, MVD, E, ManFF=False, PVInit=@, method='EBD-EBD')\n",
      "    The function \"PID RT\"\n",
      "    needs to be included in a\n",
      "    \"for or while loop\"\n",
      "    \n",
      "    SP: SP (or SetPoint) vector\n",
      "    PV: PV (or Process Value) vector\n",
      "    Man: Man (or Manual controller mode) vector (True or False)\n",
      "    MVMan: MVMan (or Manual value for MV) vector\n",
      "    MVFF: MVFF (or Feedforward) vector\n",
      "    \n",
      "    Kc: controller gain\n",
      "    Ti: integral time constant [s]\n",
      "    Td: derivative time constant [s]\n",
      "    alpha: Tfd = alpha*Td where Tfd is the derivative filter time constant [s]\n",
      "    Ts: sampling period [s]\n",
      "    \n",
      "    MVMin: minimum value for MV (used for saturation and anti wind-up)\n",
      "    MVMax: maximum value for MV (used for saturation and anti wind-up)\n",
      "    \n",
      "    MV: MV (or Manipulated Value) vector\n",
      "    \n",
      "    MVP: MVP (or Propotional part of MV) vector\n",
      "    MVI: MVI (or Integral part of MV) vector\n",
      "    MVD: MVD (or Derivative part of MV) vector\n",
      "    \n",
      "    E: E (or control Error) vector\n",
      "    ManFF: Activated FF in manual mode (optional: default boolean value is False)\n",
      "    PVInit: Initial value for PV (optional: default value is e): used if PID_RT is ran first in the squence and no value of PV is available yet.\n",
      "    \n",
      "    method: discretisation method (optional: default value is 'EBD')\n",
      "    EBD-EBD: EBD for integral action and EBD for derivative action\n",
      "    EBD-TRAP: EBD for integral action and TRAP for derivative action\n",
      "    TRAP-EBD: TRAP for integral action and EBD for derivative action\n",
      "    TRAP-TRAP: TRAP for integral action and TRAP for derivative action\n",
      "    \n",
      "    The function \"PID_ RT\"\n",
      "    appends new values to the vectors \"MV\",\n",
      "    \"MVP\". \"MVI\".\n",
      "    and \"MVD\"\n",
      "    The appended values are based on the PID algorithm, the controller mode, and feedforward.\n",
      "    Note that saturation of \"MV\" within the limits [MVMin MVMax] is implemented with anti wind-up.\n",
      "\n"
     ]
    }
   ],
   "source": [
    "help(PID_RT)"
   ]
  },
  {
   "cell_type": "code",
   "execution_count": 20,
   "id": "c7938a60",
   "metadata": {},
   "outputs": [
    {
     "data": {
      "application/vnd.jupyter.widget-view+json": {
       "model_id": "8f902762dd5b40989dcc9f62daadacc7",
       "version_major": 2,
       "version_minor": 0
      },
      "text/plain": [
       "interactive(children=(FloatSlider(value=5.5, description='Kc', max=10.0, min=0.1), FloatSlider(value=26.4, des…"
      ]
     },
     "metadata": {},
     "output_type": "display_data"
    },
    {
     "data": {
      "text/plain": [
       "<function __main__.update_pid(Kc, Ti, Td, alpha, theta, MVMin, MVMax, gamma)>"
      ]
     },
     "execution_count": 20,
     "metadata": {},
     "output_type": "execute_result"
    }
   ],
   "source": [
    "TSim = 250\n",
    "Ts = 0.01\n",
    "N = int(TSim/Ts) + 1\n",
    "\n",
    "T = 5\n",
    "ActivateFF = True\n",
    "ManFF= True\n",
    "\n",
    "# Path for MV\n",
    "SPPath = {0:50, 5:50, 50:50, 80:50, TSim: 50}\n",
    "PVPath = {0:50, 5:40, 50:40, 80:40, TSim: 40}\n",
    "MVManPath = {0:50, 5:40, 50:40, 80:40, TSim: 40}\n",
    "ManPath = {0: False, 0:False, 50:False, 80: True, 90 : False, TSim: False}\n",
    "MVFFPath = {0:0, 200 : 15, TSim : True}\n",
    "\n",
    "def update_pid(Kc, Ti, Td, alpha, theta, MVMin, MVMax, gamma):\n",
    "    t = []\n",
    "    SP = []\n",
    "    PV = []\n",
    "    E = []\n",
    "    MVP=[]\n",
    "    MVI=[]\n",
    "    MVD=[]\n",
    "    MV = []\n",
    "    MVMan=[]\n",
    "    Man = []\n",
    "    MVFF = []\n",
    "\n",
    "    Kc, Ti, Td = IMC_tuning(0.533, 19.38, 70.81, 14, gamma, \"SOPDT\")\n",
    "    print(Kc, Ti, Td)\n",
    "    \n",
    "    for i in range(0,N):\n",
    "        t.append(i*Ts)\n",
    "        SelectPath_RT(SPPath,t,SP)\n",
    "        SelectPath_RT(PVPath,t,PV)\n",
    "        SelectPath_RT(ManPath,t,Man)\n",
    "        SelectPath_RT(MVManPath,t,MVMan)\n",
    "        SelectPath_RT(MVFFPath,t,MVFF)\n",
    "        PID_RT(SP,PV,Man,MVMan,MVFF,Kc,Ti,Td,alpha,Ts,MVMin,MVMax,MV,MVP,MVI,MVD,E,ManFF,0)\n",
    "\n",
    "    plt.figure(figsize = (15,9))\n",
    "    \n",
    "\n",
    "    plt.subplot(3,1,1) # MV, MV_P, MV_I, MV_D, MV_FF\n",
    "    plt.step(t,MVP,'purple', linewidth=0.5,label='MVP',where='post')\n",
    "    plt.step(t,MVI,'blue',label='MVI',where='post')\n",
    "    plt.step(t,MVD,'green',label='MVD',where='post')\n",
    "    #plt.step(t,SP,'blue',label='SP',where='post')\n",
    "    #plt.step(t,PV,'c-',label='PV',where='post')\n",
    "    plt.step(t,MV,'springgreen',linewidth=0.5,label='MV',where='post')\n",
    "    plt.ylabel('Value of MV')\n",
    "    plt.title('PID controller')\n",
    "    plt.legend(loc=\"right\")\n",
    "    plt.xlim([0, TSim])\n",
    "    #plt.ylim([-150, 150])\n",
    "\n",
    "    plt.subplot(3,1,2)\n",
    "    plt.title('Man plot')\n",
    "    plt.step(t,E,'r-',label='E',where='post')\n",
    "    plt.step(t,Man,'b-',label='Man',where='post')\n",
    "    plt.legend(loc='best')\n",
    "    plt.xlim([0, TSim])\n",
    "\n",
    "    plt.subplot(3,1,3)\n",
    "    plt.title('Man plot')\n",
    "    plt.step(t,MVFF,'m-',label='MVFF',where='post')\n",
    "    plt.legend(loc='best')\n",
    "    plt.xlim([0, TSim])\n",
    "    plt.show()\n",
    "\n",
    "# Display interactive plot\n",
    "interact(update_pid, \n",
    "         Kc=FloatSlider(min=0.1, max=10, step=0.1, value=5.5),\n",
    "         Ti=FloatSlider(min=0.1, max=30, step=0.1, value=26.4),\n",
    "         Td=FloatSlider(min=0.1, max=30, step=0.1, value=5.14),\n",
    "         theta=FloatSlider(min=0.1, max=100, step=0.1, value=0.4),\n",
    "         alpha=FloatSlider(min=0.1, max=0.9, step=0.1, value=0.4),\n",
    "         gamma=FloatSlider(min=0.1, max=10, step=0.1, value=0.1),\n",
    "         MVMin=FloatSlider(min=0.1, max=100, step=0.1, value=0),\n",
    "         MVMax=FloatSlider(min=0.1, max=100, step=0.1, value=100),\n",
    "         \n",
    "         )"
   ]
  },
  {
   "attachments": {},
   "cell_type": "markdown",
   "id": "61a4e902",
   "metadata": {},
   "source": [
    "# Margins"
   ]
  },
  {
   "cell_type": "code",
   "execution_count": 21,
   "id": "48b3ea74",
   "metadata": {},
   "outputs": [
    {
     "name": "stdout",
     "output_type": "stream",
     "text": [
      "Help on function StabilityMargins in module package_LAB:\n",
      "\n",
      "StabilityMargins(P: package_DBR.Process, C: package_LAB.Controller, omega)\n",
      "    The function \"stability_margins\" needs to have 2 processes object in paramaters.\n",
      "    \n",
      "    :P: the system process\n",
      "    :C: the controller \n",
      "    :omega: frequency vector (rad/s); generated by a command of the type \"omega = np.logspace(-2, 2, 10000)\".\n",
      "        \n",
      "    The function \"stability_margins\" generates the bodes plots of the Loop gain and gives the phase and gain margins.\n",
      "\n"
     ]
    }
   ],
   "source": [
    "help(StabilityMargins)"
   ]
  },
  {
   "cell_type": "code",
   "execution_count": 22,
   "id": "36325c3c",
   "metadata": {},
   "outputs": [
    {
     "data": {
      "application/vnd.jupyter.widget-view+json": {
       "model_id": "abe5595bbb144e65a4926d007879b7ce",
       "version_major": 2,
       "version_minor": 0
      },
      "text/plain": [
       "interactive(children=(FloatSlider(value=0.1, description='alpha', max=30.0, min=0.1), FloatSlider(value=0.1, d…"
      ]
     },
     "metadata": {},
     "output_type": "display_data"
    },
    {
     "data": {
      "text/plain": [
       "<function __main__.update_margins(alpha, gamma)>"
      ]
     },
     "execution_count": 22,
     "metadata": {},
     "output_type": "execute_result"
    }
   ],
   "source": [
    "\n",
    "def update_margins(alpha, gamma):\n",
    "\n",
    "    Kc, Ti, Td = IMC_tuning(Kp, T1p, T2p, thetap, gamma, \"SOPDT\")\n",
    "    \n",
    "    # IMC tuning values\n",
    "    C = Controller({})\n",
    "    C.parameters['Kc'] = Kc\n",
    "    C.parameters['Ti'] = Ti\n",
    "    C.parameters['Td'] = Td\n",
    "    C.parameters['alpha'] = alpha\n",
    "\n",
    "    # python SOPDT values\n",
    "    P = Process({})\n",
    "    P.parameters['Kp']  = 0.6738137025155853\n",
    "    P.parameters['Tlag1'] = 183.44770757727215\n",
    "    P.parameters['Tlag2'] = 10.192078303908199\n",
    "    P.parameters['theta'] = 10.192078303908199\n",
    "\n",
    "    omega = np.logspace(-4, 1, 10000)\n",
    "\n",
    "    StabilityMargins(P, C, omega)\n",
    "\n",
    "# Display interactive bode diag\n",
    "interact(update_margins, \n",
    "         alpha=FloatSlider(min=0.1, max=30, step=0.1, value=0),\n",
    "         gamma=FloatSlider(min=0.1, max=1, step=0.1, value=0),\n",
    "         )"
   ]
  }
 ],
 "metadata": {
  "interpreter": {
   "hash": "605801abee6af3da22b3d36c409e2e472ae4fe6373a00d3bff07b054a2f34ed7"
  },
  "kernelspec": {
   "display_name": "Python 3",
   "language": "python",
   "name": "python3"
  },
  "language_info": {
   "codemirror_mode": {
    "name": "ipython",
    "version": 3
   },
   "file_extension": ".py",
   "mimetype": "text/x-python",
   "name": "python",
   "nbconvert_exporter": "python",
   "pygments_lexer": "ipython3",
   "version": "3.9.16"
  }
 },
 "nbformat": 4,
 "nbformat_minor": 5
}
